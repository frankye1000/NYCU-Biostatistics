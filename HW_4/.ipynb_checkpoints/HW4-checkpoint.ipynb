{
 "cells": [
  {
   "cell_type": "code",
   "execution_count": 3,
   "id": "0809e482",
   "metadata": {},
   "outputs": [],
   "source": [
    "from math import exp, factorial\n",
    "def possion(x, Lambda):\n",
    "    return exp(-Lambda)*(Lambda**x) / factorial(x)"
   ]
  },
  {
   "cell_type": "markdown",
   "id": "70df97be",
   "metadata": {},
   "source": [
    "# 3"
   ]
  },
  {
   "cell_type": "code",
   "execution_count": 4,
   "id": "d38f6a44",
   "metadata": {},
   "outputs": [
    {
     "name": "stdout",
     "output_type": "stream",
     "text": [
      "0.8158857925585464\n"
     ]
    }
   ],
   "source": [
    "#(a)-2\n",
    "P = 0\n",
    "for x in range(11):\n",
    "    P += possion(x, 8)\n",
    "\n",
    "print(P)"
   ]
  },
  {
   "cell_type": "code",
   "execution_count": 8,
   "id": "d737fd22",
   "metadata": {},
   "outputs": [
    {
     "name": "stdout",
     "output_type": "stream",
     "text": [
      "0.6246497304789213\n"
     ]
    }
   ],
   "source": [
    "#(a)-3\n",
    "P = 0\n",
    "for x in range(6, 11):\n",
    "    P += possion(x, 8)\n",
    "\n",
    "print(P)"
   ]
  },
  {
   "cell_type": "code",
   "execution_count": 11,
   "id": "c80e9747",
   "metadata": {},
   "outputs": [
    {
     "name": "stdout",
     "output_type": "stream",
     "text": [
      "0.0004993992273873334\n"
     ]
    }
   ],
   "source": [
    "#(b)\n",
    "P = 0\n",
    "for x in range(0, 2):\n",
    "    P += possion(x, 10)\n",
    "\n",
    "print(P)"
   ]
  },
  {
   "cell_type": "code",
   "execution_count": 12,
   "id": "9baaa7f8",
   "metadata": {},
   "outputs": [
    {
     "name": "stdout",
     "output_type": "stream",
     "text": [
      "0.17568121288208471\n"
     ]
    }
   ],
   "source": [
    "#(c)-2\n",
    "P = 0\n",
    "for x in range(0, 11):\n",
    "    P += possion(x, 14)\n",
    "\n",
    "print(P)"
   ]
  },
  {
   "cell_type": "code",
   "execution_count": 14,
   "id": "f14b38c4",
   "metadata": {},
   "outputs": [
    {
     "name": "stdout",
     "output_type": "stream",
     "text": [
      "0.15785677891931912\n"
     ]
    }
   ],
   "source": [
    "#(c)-3\n",
    "P = 0\n",
    "for x in range(0, 11):\n",
    "    P += possion(x, 14.28)\n",
    "\n",
    "print(P)\n"
   ]
  },
  {
   "cell_type": "code",
   "execution_count": 16,
   "id": "3810ace8",
   "metadata": {},
   "outputs": [
    {
     "name": "stdout",
     "output_type": "stream",
     "text": [
      "0.15751510066469487\n"
     ]
    }
   ],
   "source": [
    "#(c)-3\n",
    "P = 0\n",
    "for x in range(0, 11):\n",
    "    P += possion(x, 14.2856)\n",
    "\n",
    "print(P)\n"
   ]
  },
  {
   "cell_type": "markdown",
   "id": "68d0bf81",
   "metadata": {},
   "source": [
    "# 4"
   ]
  },
  {
   "cell_type": "code",
   "execution_count": 19,
   "id": "3484cd09",
   "metadata": {},
   "outputs": [
    {
     "name": "stdout",
     "output_type": "stream",
     "text": [
      "34.453993474508636\n"
     ]
    }
   ],
   "source": [
    "#(d)\n",
    "P = 0\n",
    "plist = [0.1, 0.15, 0.5, 0.15, 0.1]\n",
    "for i in range(5):\n",
    "    P += plist[i] * exp(i+1)\n",
    "print(P)"
   ]
  },
  {
   "cell_type": "code",
   "execution_count": 22,
   "id": "7dc8737c",
   "metadata": {},
   "outputs": [
    {
     "name": "stdout",
     "output_type": "stream",
     "text": [
      "1.7017642358903817\n"
     ]
    }
   ],
   "source": [
    "#(e)\n",
    "P = 0\n",
    "plist = [0.1, 0.15, 0.5, 0.15, 0.1]\n",
    "for i in range(5):\n",
    "    P += plist[i] * (i+1)**0.5\n",
    "print(P)"
   ]
  },
  {
   "cell_type": "code",
   "execution_count": null,
   "id": "983fa67e",
   "metadata": {},
   "outputs": [],
   "source": []
  }
 ],
 "metadata": {
  "kernelspec": {
   "display_name": "Python 3",
   "language": "python",
   "name": "python3"
  },
  "language_info": {
   "codemirror_mode": {
    "name": "ipython",
    "version": 3
   },
   "file_extension": ".py",
   "mimetype": "text/x-python",
   "name": "python",
   "nbconvert_exporter": "python",
   "pygments_lexer": "ipython3",
   "version": "3.8.8"
  }
 },
 "nbformat": 4,
 "nbformat_minor": 5
}
