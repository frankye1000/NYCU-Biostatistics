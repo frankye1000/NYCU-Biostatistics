{
 "cells": [
  {
   "cell_type": "code",
   "execution_count": 1,
   "id": "b4d3729b",
   "metadata": {},
   "outputs": [
    {
     "data": {
      "text/plain": [
       "2.138089935299395"
      ]
     },
     "execution_count": 1,
     "metadata": {},
     "output_type": "execute_result"
    }
   ],
   "source": [
    "8/(14**0.5)"
   ]
  },
  {
   "cell_type": "code",
   "execution_count": 2,
   "id": "57b80f8c",
   "metadata": {},
   "outputs": [
    {
     "data": {
      "text/plain": [
       "81.8056"
      ]
     },
     "execution_count": 2,
     "metadata": {},
     "output_type": "execute_result"
    }
   ],
   "source": [
    "86-1.96*2.14"
   ]
  },
  {
   "cell_type": "code",
   "execution_count": 3,
   "id": "beb1dadb",
   "metadata": {},
   "outputs": [
    {
     "data": {
      "text/plain": [
       "90.1944"
      ]
     },
     "execution_count": 3,
     "metadata": {},
     "output_type": "execute_result"
    }
   ],
   "source": [
    "86+1.96*2.14"
   ]
  },
  {
   "cell_type": "code",
   "execution_count": 4,
   "id": "b9cf7572",
   "metadata": {},
   "outputs": [
    {
     "data": {
      "text/plain": [
       "87.31006"
      ]
     },
     "execution_count": 4,
     "metadata": {},
     "output_type": "execute_result"
    }
   ],
   "source": [
    "91.1-1.771*2.14"
   ]
  },
  {
   "cell_type": "code",
   "execution_count": 5,
   "id": "bafc29a3",
   "metadata": {},
   "outputs": [
    {
     "data": {
      "text/plain": [
       "94.88994"
      ]
     },
     "execution_count": 5,
     "metadata": {},
     "output_type": "execute_result"
    }
   ],
   "source": [
    "91.1+1.771*2.14\n"
   ]
  },
  {
   "cell_type": "code",
   "execution_count": 8,
   "id": "6b6f3dbf",
   "metadata": {},
   "outputs": [
    {
     "data": {
      "text/plain": [
       "522.8844444444445"
      ]
     },
     "execution_count": 8,
     "metadata": {},
     "output_type": "execute_result"
    }
   ],
   "source": [
    "(1.96*10500/900)**2"
   ]
  },
  {
   "cell_type": "code",
   "execution_count": 9,
   "id": "8dded3d2",
   "metadata": {},
   "outputs": [
    {
     "data": {
      "text/plain": [
       "2.061999475285906"
      ]
     },
     "execution_count": 9,
     "metadata": {},
     "output_type": "execute_result"
    }
   ],
   "source": [
    "2.22-2.576*1.03/(282**0.5)"
   ]
  },
  {
   "cell_type": "code",
   "execution_count": 10,
   "id": "10509382",
   "metadata": {},
   "outputs": [
    {
     "data": {
      "text/plain": [
       "2.3780005247140945"
      ]
     },
     "execution_count": 10,
     "metadata": {},
     "output_type": "execute_result"
    }
   ],
   "source": [
    "2.22+2.576*1.03/(282**0.5)"
   ]
  },
  {
   "cell_type": "code",
   "execution_count": null,
   "id": "d49a95b1",
   "metadata": {},
   "outputs": [],
   "source": []
  }
 ],
 "metadata": {
  "kernelspec": {
   "display_name": "Python 3",
   "language": "python",
   "name": "python3"
  },
  "language_info": {
   "codemirror_mode": {
    "name": "ipython",
    "version": 3
   },
   "file_extension": ".py",
   "mimetype": "text/x-python",
   "name": "python",
   "nbconvert_exporter": "python",
   "pygments_lexer": "ipython3",
   "version": "3.8.8"
  }
 },
 "nbformat": 4,
 "nbformat_minor": 5
}
