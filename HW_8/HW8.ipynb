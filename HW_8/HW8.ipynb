{
 "cells": [
  {
   "cell_type": "code",
   "execution_count": 1,
   "id": "6594c73c",
   "metadata": {},
   "outputs": [],
   "source": [
    "import numpy as np"
   ]
  },
  {
   "cell_type": "code",
   "execution_count": 20,
   "id": "f12ce17b",
   "metadata": {},
   "outputs": [
    {
     "data": {
      "text/plain": [
       "0.03162277660168382"
      ]
     },
     "execution_count": 20,
     "metadata": {},
     "output_type": "execute_result"
    }
   ],
   "source": [
    "np.std([0.95,1.02,1.01,0.98],ddof=1)"
   ]
  },
  {
   "cell_type": "code",
   "execution_count": 3,
   "id": "1069fb6d",
   "metadata": {},
   "outputs": [
    {
     "data": {
      "text/plain": [
       "0.99"
      ]
     },
     "execution_count": 3,
     "metadata": {},
     "output_type": "execute_result"
    }
   ],
   "source": [
    "np.mean([0.95,1.02,1.01,0.98])"
   ]
  },
  {
   "cell_type": "code",
   "execution_count": 4,
   "id": "4a9cace9",
   "metadata": {},
   "outputs": [
    {
     "data": {
      "text/plain": [
       "3.1999999999999997"
      ]
     },
     "execution_count": 4,
     "metadata": {},
     "output_type": "execute_result"
    }
   ],
   "source": [
    "np.mean([2.8,3.2,3.75,3.1,2.95,3.4])"
   ]
  },
  {
   "cell_type": "code",
   "execution_count": 23,
   "id": "09d6d904",
   "metadata": {},
   "outputs": [
    {
     "data": {
      "text/plain": [
       "0.3391164991562634"
      ]
     },
     "execution_count": 23,
     "metadata": {},
     "output_type": "execute_result"
    }
   ],
   "source": [
    "np.std([2.8,3.2,3.75,3.1,2.95,3.4], ddof=1)"
   ]
  },
  {
   "cell_type": "code",
   "execution_count": 29,
   "id": "a8c44f5e",
   "metadata": {},
   "outputs": [
    {
     "data": {
      "text/plain": [
       "2.844078485093223"
      ]
     },
     "execution_count": 29,
     "metadata": {},
     "output_type": "execute_result"
    }
   ],
   "source": [
    "3.2-2.571*(0.3391/(6**0.5))"
   ]
  },
  {
   "cell_type": "code",
   "execution_count": 25,
   "id": "9ccda55c",
   "metadata": {},
   "outputs": [
    {
     "data": {
      "text/plain": [
       "2.641822034965335"
      ]
     },
     "execution_count": 25,
     "metadata": {},
     "output_type": "execute_result"
    }
   ],
   "source": [
    "3.2-4.032*(0.3391/(6**0.5))"
   ]
  },
  {
   "cell_type": "code",
   "execution_count": 28,
   "id": "bbe6093f",
   "metadata": {},
   "outputs": [
    {
     "data": {
      "text/plain": [
       "1.1163000000000003"
      ]
     },
     "execution_count": 28,
     "metadata": {},
     "output_type": "execute_result"
    }
   ],
   "source": [
    "3.7581-2.6418"
   ]
  },
  {
   "cell_type": "code",
   "execution_count": 30,
   "id": "e872ec6c",
   "metadata": {},
   "outputs": [
    {
     "data": {
      "text/plain": [
       "0.7120000000000002"
      ]
     },
     "execution_count": 30,
     "metadata": {},
     "output_type": "execute_result"
    }
   ],
   "source": [
    "3.556-2.844"
   ]
  },
  {
   "cell_type": "code",
   "execution_count": 32,
   "id": "45f52f70",
   "metadata": {
    "scrolled": true
   },
   "outputs": [
    {
     "data": {
      "text/plain": [
       "3.3432130716340183"
      ]
     },
     "execution_count": 32,
     "metadata": {},
     "output_type": "execute_result"
    }
   ],
   "source": [
    "3.2+2.069*(0.3391/(24**0.5))"
   ]
  },
  {
   "cell_type": "code",
   "execution_count": null,
   "id": "970cc567",
   "metadata": {},
   "outputs": [],
   "source": []
  },
  {
   "cell_type": "code",
   "execution_count": 33,
   "id": "70be502b",
   "metadata": {},
   "outputs": [
    {
     "data": {
      "text/plain": [
       "0.2864"
      ]
     },
     "execution_count": 33,
     "metadata": {},
     "output_type": "execute_result"
    }
   ],
   "source": [
    "3.3432-3.0568"
   ]
  },
  {
   "cell_type": "code",
   "execution_count": 17,
   "id": "361a8bbd",
   "metadata": {},
   "outputs": [
    {
     "data": {
      "text/plain": [
       "1.8949728622879576"
      ]
     },
     "execution_count": 17,
     "metadata": {},
     "output_type": "execute_result"
    }
   ],
   "source": [
    "2.5/(5.9/(20**0.5))"
   ]
  },
  {
   "cell_type": "code",
   "execution_count": 19,
   "id": "afd91823",
   "metadata": {},
   "outputs": [
    {
     "data": {
      "text/plain": [
       "42.309666666666665"
      ]
     },
     "execution_count": 19,
     "metadata": {},
     "output_type": "execute_result"
    }
   ],
   "source": [
    "45-2.306*(3.5/3)"
   ]
  },
  {
   "cell_type": "code",
   "execution_count": 22,
   "id": "fab70f8e",
   "metadata": {},
   "outputs": [
    {
     "data": {
      "text/plain": [
       "1.04031"
      ]
     },
     "execution_count": 22,
     "metadata": {},
     "output_type": "execute_result"
    }
   ],
   "source": [
    "0.99+0.05031"
   ]
  },
  {
   "cell_type": "code",
   "execution_count": 35,
   "id": "9f02bfe7",
   "metadata": {},
   "outputs": [
    {
     "data": {
      "text/plain": [
       "1.8949728622879574"
      ]
     },
     "execution_count": 35,
     "metadata": {},
     "output_type": "execute_result"
    }
   ],
   "source": [
    "2.5*20**0.5/5.9"
   ]
  },
  {
   "cell_type": "code",
   "execution_count": null,
   "id": "7ad66c8f",
   "metadata": {},
   "outputs": [],
   "source": []
  }
 ],
 "metadata": {
  "kernelspec": {
   "display_name": "Python 3",
   "language": "python",
   "name": "python3"
  },
  "language_info": {
   "codemirror_mode": {
    "name": "ipython",
    "version": 3
   },
   "file_extension": ".py",
   "mimetype": "text/x-python",
   "name": "python",
   "nbconvert_exporter": "python",
   "pygments_lexer": "ipython3",
   "version": "3.8.8"
  }
 },
 "nbformat": 4,
 "nbformat_minor": 5
}
